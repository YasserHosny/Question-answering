{
 "cells": [
  {
   "cell_type": "code",
   "execution_count": 1,
   "metadata": {},
   "outputs": [
    {
     "name": "stderr",
     "output_type": "stream",
     "text": [
      "ModuleNotFoundError: No module named 'shapely'\n"
     ]
    }
   ],
   "source": [
    "import openai\n",
    "import pandas as pd\n",
    "import json\n",
    "from hana_ml.dataframe import ConnectionContext\n",
    "from dotenv import load_dotenv\n",
    "import os"
   ]
  },
  {
   "cell_type": "code",
   "execution_count": 2,
   "metadata": {},
   "outputs": [],
   "source": [
    "load_dotenv()\n",
    "\n",
    "# Connection constants\n",
    "dbHost = os.getenv('DB_HOST')\n",
    "dbPort = 443\n",
    "dbUser = os.getenv('DB_USER')\n",
    "dbPwd = os.getenv('DB_PASS')\n",
    "dbTable = \"COUNTRIES_BY_GDP\""
   ]
  },
  {
   "cell_type": "code",
   "execution_count": 7,
   "metadata": {},
   "outputs": [],
   "source": [
    "# Connect to OpenAI API\n",
    "openai.organization = os.getenv('OPENAI_ORGANIZATION')\n",
    "openai.api_key = os.getenv('OPENAI_API_KEY')\n",
    "\n",
    "org = os.getenv('OPENAI_ORGANIZATION')\n",
    "key =os.getenv('OPENAI_API_KEY')"
   ]
  },
  {
   "cell_type": "code",
   "execution_count": 8,
   "metadata": {},
   "outputs": [],
   "source": [
    "# Connect to HANA Cloud\n",
    "cc=ConnectionContext(dbHost, dbPort, dbUser, dbPwd, encrypt=True, sslValidateCertificate=False)"
   ]
  },
  {
   "cell_type": "code",
   "execution_count": null,
   "metadata": {},
   "outputs": [],
   "source": [
    "table = cc.table(dbTable)\n",
    "df = table.collect()\n",
    "df['GDP'] = df['GDP'].astype(str)\n",
    "\n",
    "data_gdp = {}\n",
    "\n",
    "for column in df:\n",
    "    data_gdp[column] = df[column].values.tolist()"
   ]
  },
  {
   "cell_type": "code",
   "execution_count": 15,
   "metadata": {},
   "outputs": [],
   "source": [
    "def apply_model(query):\n",
    "    prompt = \"\"\"Please regard the following table: {}\n",
    "\n",
    "    The table name is COUNTRIES_BY_GDP. Use ' as the quote character. Quote column aliases with \". Write a SQL query to answer the following question: {}\"\"\".format(json.dumps(data_gdp), query)\n",
    "\n",
    "    request = openai.Completion.create(\n",
    "        model=\"text-davinci-003\",\n",
    "        prompt=prompt,\n",
    "        temperature=0.9,\n",
    "        max_tokens=3500\n",
    "    )\n",
    "    sql_query = request.choices[0].text\n",
    "    print(\"===> {}: {}\\n\".format(query, sql_query))    \n",
    "\n",
    "    df = cc.sql(sql_query)\n",
    "    return df.collect()\n"
   ]
  },
  {
   "cell_type": "code",
   "execution_count": 17,
   "metadata": {},
   "outputs": [
    {
     "name": "stdout",
     "output_type": "stream",
     "text": [
      "===> What is the percentual increase of the US 2022 GDP vs 2021?: \n",
      "\n",
      "SELECT round(((25035164/22996100) - 1) * 100,2) as \"% Increase US GDP\"\n",
      "FROM COUNTRIES_BY_GDP\n",
      "WHERE \"COUNTRY\" = 'United States' AND \"YEAR\" = 2022;\n",
      "\n",
      "  % Increase US GDP\n",
      "0              8.87\n"
     ]
    }
   ],
   "source": [
    "# print(apply_model(\"What is the GDP of the United States in 2022?\"))\n",
    "# print(apply_model(\"What is the total GDP of Europe in 2022?\"))\n",
    "# print(apply_model(\"What is the average GDP of all countries in 2022?\"))\n",
    "# print(apply_model(\"What is the GDP of Italy in 2021?\"))\n",
    "# print(apply_model(\"How many distinct countries are there in Asia?\"))\n",
    "# print(apply_model(\"Total European GDP in 2021?\"))\n",
    "# print(apply_model(\"What countries have a GDP higher than 10 million in 2022? (do not use thousands separators)\"))\n",
    "# print(apply_model(\"How much has the total GDP in 2022 increased compared to the total GDP in 2021?\"))\n",
    "print(apply_model(\"What is the percentual increase of the US 2022 GDP vs 2021?\"))\n"
   ]
  },
  {
   "cell_type": "code",
   "execution_count": null,
   "metadata": {},
   "outputs": [],
   "source": []
  }
 ],
 "metadata": {
  "kernelspec": {
   "display_name": "transformers",
   "language": "python",
   "name": "python3"
  },
  "language_info": {
   "codemirror_mode": {
    "name": "ipython",
    "version": 3
   },
   "file_extension": ".py",
   "mimetype": "text/x-python",
   "name": "python",
   "nbconvert_exporter": "python",
   "pygments_lexer": "ipython3",
   "version": "3.11.3"
  },
  "vscode": {
   "interpreter": {
    "hash": "6553ac87f7c3ed4d80fc74ac15acfb00d26ac3c0e0df24d382c720019769f45c"
   }
  }
 },
 "nbformat": 4,
 "nbformat_minor": 4
}
